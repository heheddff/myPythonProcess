{
 "cells": [
  {
   "cell_type": "code",
   "execution_count": null,
   "metadata": {},
   "outputs": [],
   "source": [
    "import re\n",
    "contents = []\n",
    "def get_account(file):\n",
    "    pattern = \"register/check/account/.*/gameid/\\\\d{3}\"\n",
    "    try:\n",
    "        i=0\n",
    "        with open(file,\"r\") as f:\n",
    "            for line in f.read().split(\"\\n\"):\n",
    "                i+=1\n",
    "                print(i)\n",
    "                res = re.search(pattern,line)\n",
    "                if res:\n",
    "                    data = res.group(0).split(\"/\")\n",
    "                    #print(data)\n",
    "                    contents.append({data[2]:data[3],data[4]:data[5]})\n",
    "                else:\n",
    "                    print(res,line)\n",
    "    except Exception as e:\n",
    "        print(e)\n",
    "    else:\n",
    "        print(i)"
   ]
  }
 ],
 "metadata": {
  "kernelspec": {
   "display_name": "Python 3",
   "language": "python",
   "name": "python3"
  },
  "language_info": {
   "codemirror_mode": {
    "name": "ipython",
    "version": 3
   },
   "file_extension": ".py",
   "mimetype": "text/x-python",
   "name": "python",
   "nbconvert_exporter": "python",
   "pygments_lexer": "ipython3",
   "version": "3.6.5"
  }
 },
 "nbformat": 4,
 "nbformat_minor": 2
}
